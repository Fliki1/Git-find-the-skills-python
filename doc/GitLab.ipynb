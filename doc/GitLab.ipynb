{
 "cells": [
  {
   "cell_type": "markdown",
   "id": "a5ecdea0",
   "metadata": {},
   "source": [
    "# GitLab"
   ]
  },
  {
   "cell_type": "markdown",
   "id": "be2b06ef",
   "metadata": {},
   "source": [
    "Test per provare a utilizzare lib GitLab in python e gestire le varie chiamate requests sulle REST API"
   ]
  },
  {
   "cell_type": "code",
   "execution_count": 1,
   "id": "56c7aca7",
   "metadata": {},
   "outputs": [
    {
     "ename": "ModuleNotFoundError",
     "evalue": "No module named 'gitlab'",
     "output_type": "error",
     "traceback": [
      "\u001b[0;31m---------------------------------------------------------------------------\u001b[0m",
      "\u001b[0;31mModuleNotFoundError\u001b[0m                       Traceback (most recent call last)",
      "\u001b[0;32m/tmp/ipykernel_4314/319795515.py\u001b[0m in \u001b[0;36m<module>\u001b[0;34m\u001b[0m\n\u001b[0;32m----> 1\u001b[0;31m \u001b[0;32mimport\u001b[0m \u001b[0mgitlab\u001b[0m\u001b[0;34m\u001b[0m\u001b[0;34m\u001b[0m\u001b[0m\n\u001b[0m",
      "\u001b[0;31mModuleNotFoundError\u001b[0m: No module named 'gitlab'"
     ]
    }
   ],
   "source": [
    "import sys\n",
    "!{sys.executable} -m pip install numpy"
   ]
  },
  {
   "cell_type": "code",
   "execution_count": 3,
   "id": "a634f93a",
   "metadata": {},
   "outputs": [
    {
     "name": "stdout",
     "output_type": "stream",
     "text": [
      "{'id': 10237257, 'description': 'Camera application for Ubuntu Touch devices', 'name': 'Camera App', 'name_with_namespace': 'UBports / Apps / Camera App', 'path': 'camera-app', 'path_with_namespace': 'ubports/apps/camera-app', 'created_at': '2019-01-07T05:00:23.278Z', 'default_branch': 'master', 'tag_list': [], 'topics': [], 'ssh_url_to_repo': 'git@gitlab.com:ubports/apps/camera-app.git', 'http_url_to_repo': 'https://gitlab.com/ubports/apps/camera-app.git', 'web_url': 'https://gitlab.com/ubports/apps/camera-app', 'readme_url': 'https://gitlab.com/ubports/apps/camera-app/-/blob/master/README.md', 'avatar_url': 'https://gitlab.com/uploads/-/system/project/avatar/10237257/camera-app.png', 'forks_count': 14, 'star_count': 8, 'last_activity_at': '2021-09-12T01:00:14.863Z', 'namespace': {'id': 3535546, 'name': 'Apps', 'path': 'apps', 'kind': 'group', 'full_path': 'ubports/apps', 'parent_id': 2966343, 'avatar_url': None, 'web_url': 'https://gitlab.com/groups/ubports/apps'}}\n"
     ]
    }
   ],
   "source": [
    "import requests\n",
    "\n",
    "con = requests.get(\"https://gitlab.com/api/v4/projects/10237257\")  \n",
    "if con.ok:\n",
    "    myResponse = con.json()\n",
    "print(myResponse)"
   ]
  },
  {
   "cell_type": "code",
   "execution_count": 17,
   "id": "6faf4d6c",
   "metadata": {},
   "outputs": [
    {
     "name": "stdout",
     "output_type": "stream",
     "text": [
      "<Response [403]>\n"
     ]
    }
   ],
   "source": [
    "import requests\n",
    "\n",
    "con = requests.get(\"https://gitlab.com/api/v4/users?search=enolp@softastur.org\")  \n",
    "if con.ok:\n",
    "    myResponse = con.json()\n",
    "    print(myResponse)\n",
    "print(con)"
   ]
  },
  {
   "cell_type": "code",
   "execution_count": null,
   "id": "d4ffe2ca",
   "metadata": {},
   "outputs": [],
   "source": []
  }
 ],
 "metadata": {
  "kernelspec": {
   "display_name": "Python 3 (ipykernel)",
   "language": "python",
   "name": "python3"
  },
  "language_info": {
   "codemirror_mode": {
    "name": "ipython",
    "version": 3
   },
   "file_extension": ".py",
   "mimetype": "text/x-python",
   "name": "python",
   "nbconvert_exporter": "python",
   "pygments_lexer": "ipython3",
   "version": "3.8.10"
  }
 },
 "nbformat": 4,
 "nbformat_minor": 5
}
